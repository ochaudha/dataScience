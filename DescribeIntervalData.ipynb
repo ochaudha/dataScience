{
 "cells": [
  {
   "cell_type": "code",
   "execution_count": 16,
   "metadata": {},
   "outputs": [
    {
     "data": {
      "text/html": [
       "<div>\n",
       "<style scoped>\n",
       "    .dataframe tbody tr th:only-of-type {\n",
       "        vertical-align: middle;\n",
       "    }\n",
       "\n",
       "    .dataframe tbody tr th {\n",
       "        vertical-align: top;\n",
       "    }\n",
       "\n",
       "    .dataframe thead th {\n",
       "        text-align: right;\n",
       "    }\n",
       "</style>\n",
       "<table border=\"1\" class=\"dataframe\">\n",
       "  <thead>\n",
       "    <tr style=\"text-align: right;\">\n",
       "      <th></th>\n",
       "      <th>Bills</th>\n",
       "      <th>BINS</th>\n",
       "      <th>Unnamed: 2</th>\n",
       "      <th>Unnamed: 5</th>\n",
       "      <th>Unnamed: 7</th>\n",
       "    </tr>\n",
       "  </thead>\n",
       "  <tbody>\n",
       "    <tr>\n",
       "      <th>count</th>\n",
       "      <td>200.000000</td>\n",
       "      <td>8.000000</td>\n",
       "      <td>2.000000</td>\n",
       "      <td>0.0</td>\n",
       "      <td>8.000000</td>\n",
       "    </tr>\n",
       "    <tr>\n",
       "      <th>mean</th>\n",
       "      <td>43.587600</td>\n",
       "      <td>67.500000</td>\n",
       "      <td>59.815000</td>\n",
       "      <td>NaN</td>\n",
       "      <td>397.252224</td>\n",
       "    </tr>\n",
       "    <tr>\n",
       "      <th>std</th>\n",
       "      <td>38.969709</td>\n",
       "      <td>36.742346</td>\n",
       "      <td>84.591184</td>\n",
       "      <td>NaN</td>\n",
       "      <td>689.999807</td>\n",
       "    </tr>\n",
       "    <tr>\n",
       "      <th>min</th>\n",
       "      <td>0.000000</td>\n",
       "      <td>15.000000</td>\n",
       "      <td>0.000000</td>\n",
       "      <td>NaN</td>\n",
       "      <td>0.000000</td>\n",
       "    </tr>\n",
       "    <tr>\n",
       "      <th>25%</th>\n",
       "      <td>9.385000</td>\n",
       "      <td>41.250000</td>\n",
       "      <td>29.907500</td>\n",
       "      <td>NaN</td>\n",
       "      <td>20.178750</td>\n",
       "    </tr>\n",
       "    <tr>\n",
       "      <th>50%</th>\n",
       "      <td>26.905000</td>\n",
       "      <td>67.500000</td>\n",
       "      <td>59.815000</td>\n",
       "      <td>NaN</td>\n",
       "      <td>38.920936</td>\n",
       "    </tr>\n",
       "    <tr>\n",
       "      <th>75%</th>\n",
       "      <td>84.827500</td>\n",
       "      <td>93.750000</td>\n",
       "      <td>89.722500</td>\n",
       "      <td>NaN</td>\n",
       "      <td>410.451966</td>\n",
       "    </tr>\n",
       "    <tr>\n",
       "      <th>max</th>\n",
       "      <td>119.630000</td>\n",
       "      <td>120.000000</td>\n",
       "      <td>119.630000</td>\n",
       "      <td>NaN</td>\n",
       "      <td>1518.638255</td>\n",
       "    </tr>\n",
       "  </tbody>\n",
       "</table>\n",
       "</div>"
      ],
      "text/plain": [
       "            Bills        BINS  Unnamed: 2  Unnamed: 5   Unnamed: 7\n",
       "count  200.000000    8.000000    2.000000         0.0     8.000000\n",
       "mean    43.587600   67.500000   59.815000         NaN   397.252224\n",
       "std     38.969709   36.742346   84.591184         NaN   689.999807\n",
       "min      0.000000   15.000000    0.000000         NaN     0.000000\n",
       "25%      9.385000   41.250000   29.907500         NaN    20.178750\n",
       "50%     26.905000   67.500000   59.815000         NaN    38.920936\n",
       "75%     84.827500   93.750000   89.722500         NaN   410.451966\n",
       "max    119.630000  120.000000  119.630000         NaN  1518.638255"
      ]
     },
     "execution_count": 16,
     "metadata": {},
     "output_type": "execute_result"
    }
   ],
   "source": [
    "import numpy as np\n",
    "import pandas as pd\n",
    "import matplotlib.pyplot as plt \n",
    "df = pd.read_excel(\"~/Documents/Statistical-Analysis/Xm03-01 CP1.xlsx\", sheet_name='Sheet1')\n",
    "df.columns\n",
    "df.describe()"
   ]
  },
  {
   "cell_type": "code",
   "execution_count": 25,
   "metadata": {},
   "outputs": [
    {
     "data": {
      "text/plain": [
       "(array([71., 37., 13.,  9., 10., 18., 28., 14.]),\n",
       " array([  0,  15,  30,  45,  60,  75,  90, 105, 120]),\n",
       " <a list of 8 Patch objects>)"
      ]
     },
     "execution_count": 25,
     "metadata": {},
     "output_type": "execute_result"
    },
    {
     "data": {
      "image/png": "[encoded data removed]",
      "text/plain": [
       "<Figure size 432x288 with 1 Axes>"
      ]
     },
     "metadata": {
      "needs_background": "light"
     },
     "output_type": "display_data"
    }
   ],
   "source": [
    "import math\n",
    "#Number of class interval = 1+3.3 log(n)\n",
    "#class width = (largest observation - smallest observation)/Number of classes\n",
    "binwidth=math.ceil(int(max(df['Bills']) - min(df['Bills'])) / 8)\n",
    "plt.hist(df['Bills'], bins=range(int(min(df['Bills'])), int(max(df['Bills'])) + int(binwidth), int(binwidth)))\n",
    "#.hist(range=(0,120), bins=10)"
   ]
  },
  {
   "cell_type": "code",
   "execution_count": null,
   "metadata": {},
   "outputs": [],
   "source": [
    "    "
   ]
  },
  {
   "cell_type": "code",
   "execution_count": null,
   "metadata": {},
   "outputs": [],
   "source": []
  },
  {
   "cell_type": "code",
   "execution_count": null,
   "metadata": {},
   "outputs": [],
   "source": []
  }
 ],
 "metadata": {
  "kernelspec": {
   "display_name": "Python 3",
   "language": "python",
   "name": "python3"
  },
  "language_info": {
   "codemirror_mode": {
    "name": "ipython",
    "version": 3
   },
   "file_extension": ".py",
   "mimetype": "text/x-python",
   "name": "python",
   "nbconvert_exporter": "python",
   "pygments_lexer": "ipython3",
   "version": "3.7.3"
  }
 },
 "nbformat": 4,
 "nbformat_minor": 2
}
